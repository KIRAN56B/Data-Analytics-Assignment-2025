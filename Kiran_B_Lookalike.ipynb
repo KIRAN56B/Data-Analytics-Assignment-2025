{
 "cells": [
  {
   "cell_type": "code",
   "execution_count": 69,
   "id": "d482a151-03c0-438b-b642-975d278d2514",
   "metadata": {},
   "outputs": [],
   "source": [
    "import pandas as pd\n",
    "from sklearn.preprocessing import StandardScaler\n",
    "from sklearn.metrics.pairwise import cosine_similarity"
   ]
  },
  {
   "cell_type": "code",
   "execution_count": 70,
   "id": "f9899520-0cb1-4f56-85cd-99fa946c8b6c",
   "metadata": {},
   "outputs": [],
   "source": [
    "customers_df = pd.read_csv(r\"C:\\Users\\THAKALI\\Downloads\\Customers (2).csv\")\n",
    "products_df = pd.read_csv(r\"C:\\Users\\THAKALI\\Downloads\\Products (2).csv\")\n",
    "transactions_df = pd.read_csv(r\"C:\\Users\\THAKALI\\Downloads\\Transactions (2).csv\")"
   ]
  },
  {
   "cell_type": "code",
   "execution_count": 71,
   "id": "ce4ad930-eb74-49dd-a8a4-25f824f7242e",
   "metadata": {},
   "outputs": [],
   "source": [
    "merged_df = pd.merge(transactions_df, customers_df, on='CustomerID')\n",
    "merged_df = pd.merge(merged_df, products_df, on='ProductID')"
   ]
  },
  {
   "cell_type": "code",
   "execution_count": 72,
   "id": "f4821505-01f4-4494-801e-ffd48936a959",
   "metadata": {},
   "outputs": [],
   "source": [
    "customer_features = merged_df.groupby('CustomerID').agg(\n",
    "    total_purchase_value=('TotalValue', 'sum'),\n",
    "    avg_transaction_value=('TotalValue', 'mean'),\n",
    "    num_transactions=('TransactionID', 'count'),\n",
    "    product_categories=('Category', lambda x: x.nunique())\n",
    ").reset_index()"
   ]
  },
  {
   "cell_type": "code",
   "execution_count": 73,
   "id": "1324440f-0957-42b7-a193-7bc34806e0ab",
   "metadata": {},
   "outputs": [],
   "source": [
    "scaler = StandardScaler()\n",
    "scaled_features = scaler.fit_transform(customer_features.drop(columns=['CustomerID']))"
   ]
  },
  {
   "cell_type": "code",
   "execution_count": 74,
   "id": "17c73b88-b619-4a0d-9d76-4563ed07c5d1",
   "metadata": {},
   "outputs": [],
   "source": [
    "similarity_matrix = cosine_similarity(scaled_features)\n",
    "similarity_df = pd.DataFrame(similarity_matrix, index=customer_features['CustomerID'], columns=customer_features['CustomerID'])"
   ]
  },
  {
   "cell_type": "code",
   "execution_count": 75,
   "id": "d7195b10-a9a4-4da7-ab46-28d3bd998c1b",
   "metadata": {},
   "outputs": [],
   "source": [
    "lookalike_results = []\n",
    "for customer_id in customer_features['CustomerID'][:20]:\n",
    "    top_similar_customers = similarity_df.loc[customer_id].sort_values(ascending=False)[1:4]\n",
    "    recommendations = [(cust_id, round(score, 2)) for cust_id, score in top_similar_customers.items()]\n",
    "    lookalike_results.append({'CustomerID': customer_id, 'Recommendations': recommendations})\n"
   ]
  },
  {
   "cell_type": "code",
   "execution_count": 76,
   "id": "e028809d-7b5a-4f94-94dd-e67f007badac",
   "metadata": {},
   "outputs": [],
   "source": [
    "lookalike_df = pd.DataFrame(lookalike_results)\n",
    "lookalike_df.to_csv('FirstName_LastName_Lookalike.csv', index=False)"
   ]
  },
  {
   "cell_type": "code",
   "execution_count": 77,
   "id": "3126235b-2b1d-4114-bb06-16f96609130e",
   "metadata": {},
   "outputs": [
    {
     "name": "stdout",
     "output_type": "stream",
     "text": [
      "Lookalike model results have been saved as FirstName_LastName_Lookalike.csv.\n"
     ]
    }
   ],
   "source": [
    "print(\"Lookalike model results have been saved as FirstName_LastName_Lookalike.csv.\")"
   ]
  },
  {
   "cell_type": "code",
   "execution_count": null,
   "id": "41718232-446d-4576-9133-cda647352cac",
   "metadata": {},
   "outputs": [],
   "source": []
  },
  {
   "cell_type": "code",
   "execution_count": null,
   "id": "ead580ab-9d94-439b-945c-9a3dca8508bd",
   "metadata": {},
   "outputs": [],
   "source": []
  },
  {
   "cell_type": "code",
   "execution_count": null,
   "id": "5bb05c8e-36f2-495f-b367-9983316f716e",
   "metadata": {},
   "outputs": [],
   "source": []
  },
  {
   "cell_type": "code",
   "execution_count": null,
   "id": "77a29f4c-9105-4ce0-90e5-96643dcb4cab",
   "metadata": {},
   "outputs": [],
   "source": []
  },
  {
   "cell_type": "code",
   "execution_count": null,
   "id": "0e267d5a-f507-452f-817d-5f28b89af506",
   "metadata": {},
   "outputs": [],
   "source": []
  },
  {
   "cell_type": "code",
   "execution_count": null,
   "id": "bb6688db-cfc4-4331-a89c-a9061081a57d",
   "metadata": {},
   "outputs": [],
   "source": []
  },
  {
   "cell_type": "code",
   "execution_count": null,
   "id": "65cda3f3-4ff7-4b42-b31a-84e92667c948",
   "metadata": {},
   "outputs": [],
   "source": []
  },
  {
   "cell_type": "code",
   "execution_count": null,
   "id": "4da555f4-74a5-433a-b8fe-45defd5aa6a3",
   "metadata": {},
   "outputs": [],
   "source": []
  },
  {
   "cell_type": "code",
   "execution_count": null,
   "id": "fe16d3df-1a79-4ee8-9e3c-c5f59afe46ca",
   "metadata": {},
   "outputs": [],
   "source": []
  },
  {
   "cell_type": "code",
   "execution_count": null,
   "id": "25e006ef-b00b-421b-9fe6-dc730b29815f",
   "metadata": {},
   "outputs": [],
   "source": []
  },
  {
   "cell_type": "code",
   "execution_count": null,
   "id": "b61348db-9ec0-4b01-9a97-66a676fcdb2b",
   "metadata": {},
   "outputs": [],
   "source": []
  },
  {
   "cell_type": "code",
   "execution_count": null,
   "id": "389bd59f-7b46-46f3-b319-8e5d267fbe1a",
   "metadata": {},
   "outputs": [],
   "source": []
  },
  {
   "cell_type": "code",
   "execution_count": null,
   "id": "7044226b-0a9f-43cf-a54f-82bcc572f108",
   "metadata": {},
   "outputs": [],
   "source": []
  },
  {
   "cell_type": "code",
   "execution_count": null,
   "id": "050ebda1-ecad-485a-935c-d5689f3656c3",
   "metadata": {},
   "outputs": [],
   "source": []
  },
  {
   "cell_type": "code",
   "execution_count": null,
   "id": "aae93467-51f8-402f-ab60-148a74d1cf1a",
   "metadata": {},
   "outputs": [],
   "source": []
  },
  {
   "cell_type": "code",
   "execution_count": null,
   "id": "4045f837-7a05-4fb2-9404-66424c25de8c",
   "metadata": {},
   "outputs": [],
   "source": []
  }
 ],
 "metadata": {
  "kernelspec": {
   "display_name": "Python [conda env:base] *",
   "language": "python",
   "name": "conda-base-py"
  },
  "language_info": {
   "codemirror_mode": {
    "name": "ipython",
    "version": 3
   },
   "file_extension": ".py",
   "mimetype": "text/x-python",
   "name": "python",
   "nbconvert_exporter": "python",
   "pygments_lexer": "ipython3",
   "version": "3.12.7"
  }
 },
 "nbformat": 4,
 "nbformat_minor": 5
}
